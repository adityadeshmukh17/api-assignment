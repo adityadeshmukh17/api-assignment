{
 "cells": [
  {
   "cell_type": "code",
   "execution_count": null,
   "id": "dddc0e0e-930f-4eda-852b-da7b1023c8d2",
   "metadata": {},
   "outputs": [],
   "source": [
    "Q1. What is an API? Give an Example Where an API is Used in Real Life.\n",
    "What is an API?\n",
    "\n",
    "An API (Application Programming Interface) is a set of rules and protocols that allows different software applications to communicate with each other.\n",
    "\n",
    "Example in Real Life:\n",
    "\n",
    "Social Media Integration: When you log into a website using your Facebook or Google account, the website uses the Facebook or Google API to authenticate you and access your profile information."
   ]
  },
  {
   "cell_type": "code",
   "execution_count": null,
   "id": "e93eb716-a3c0-4315-972f-a7f4486fe7b9",
   "metadata": {},
   "outputs": [],
   "source": [
    "Q2. Advantages and Disadvantages of Using API\n",
    "Advantages:\n",
    "\n",
    "Payment Gateways: E-commerce websites use APIs from payment gateways like PayPal or Stripe to process payments securely.\n",
    "Disadvantages:\n",
    "\n",
    "Rate Limiting: Many free APIs, such as the Twitter API, have rate limits that restrict the number of requests you can make, which can be a disadvantage for high-volume applications."
   ]
  },
  {
   "cell_type": "code",
   "execution_count": null,
   "id": "076afc46-bc95-4f4a-a9c4-823f16342200",
   "metadata": {},
   "outputs": [],
   "source": [
    "Q3. What is a Web API? Differentiate Between API and Web API\n",
    "What is a Web API?\n",
    "\n",
    "A Web API is an API that can be accessed over the web using HTTP/HTTPS protocols. It allows web-based applications to interact with each other.\n",
    "\n",
    "Difference Between API and Web API:\n",
    "\n",
    "API: General term for any set of rules and protocols that allow software components to communicate. Example: A library in a programming language.\n",
    "Web API: A specific type of API accessible over the web using HTTP/HTTPS. Example: The Google Maps API, which provides mapping and location services over the web."
   ]
  },
  {
   "cell_type": "code",
   "execution_count": null,
   "id": "b23a1be2-2e63-4300-b63a-94e0f0a2105f",
   "metadata": {},
   "outputs": [],
   "source": [
    "Q4. Explain REST and SOAP Architecture. Mention Shortcomings of SOAP\n",
    "REST (Representational State Transfer):\n",
    "\n",
    "Architecture: REST uses standard HTTP methods (GET, POST, PUT, DELETE) and is based on stateless communication. Resources are identified by URLs.\n",
    "Example: GitHub REST API for accessing repository data.\n",
    "SOAP (Simple Object Access Protocol):\n",
    "\n",
    "Architecture: SOAP is a protocol with strict standards, using XML for message format and typically relying on HTTP or SMTP for transport.\n",
    "Example: PayPal SOAP API for payment transactions.\n",
    "Shortcomings of SOAP:\n",
    "\n",
    "Complexity: SOAP requires strict adherence to standards and XML parsing, making it more complex to implement.\n",
    "Performance: SOAP messages are often larger due to XML formatting, leading to higher bandwidth usage and slower performance."
   ]
  },
  {
   "cell_type": "code",
   "execution_count": null,
   "id": "c4575d72-f742-4a1d-b80b-31bb99894daa",
   "metadata": {},
   "outputs": [],
   "source": [
    "Q5. Differentiate Between REST and SOAP. Give Only One Example of Each and Explain in 2-3 Lines\n",
    "REST:\n",
    "\n",
    "Example: Twitter REST API - Used for accessing Twitter data like tweets, user profiles, and trends using simple HTTP requests.\n",
    "Explanation: REST is lightweight, uses standard HTTP methods, and is easier to implement and consume, making it ideal for web services that require high performance and scalability.\n",
    "SOAP:\n",
    "\n",
    "Example: Amazon Product Advertising API (SOAP) - Used for accessing product information and reviews from Amazon using structured XML messages.\n",
    "Explanation: SOAP provides a higher level of security and reliability, making it suitable for enterprise-level applications that require strict standards and complex transactions."
   ]
  },
  {
   "cell_type": "code",
   "execution_count": null,
   "id": "e37b730d-cf98-4d6c-9435-602429a18413",
   "metadata": {},
   "outputs": [],
   "source": []
  },
  {
   "cell_type": "code",
   "execution_count": null,
   "id": "0f70beb5-011b-43bc-b8ef-7d5876f773cd",
   "metadata": {},
   "outputs": [],
   "source": []
  },
  {
   "cell_type": "code",
   "execution_count": null,
   "id": "378f5a97-b535-4120-ac95-7cc6246f9460",
   "metadata": {},
   "outputs": [],
   "source": []
  }
 ],
 "metadata": {
  "kernelspec": {
   "display_name": "Python 3 (ipykernel)",
   "language": "python",
   "name": "python3"
  },
  "language_info": {
   "codemirror_mode": {
    "name": "ipython",
    "version": 3
   },
   "file_extension": ".py",
   "mimetype": "text/x-python",
   "name": "python",
   "nbconvert_exporter": "python",
   "pygments_lexer": "ipython3",
   "version": "3.10.8"
  }
 },
 "nbformat": 4,
 "nbformat_minor": 5
}
